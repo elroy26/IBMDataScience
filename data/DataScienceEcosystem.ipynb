{
 "cells": [
  {
   "metadata": {},
   "cell_type": "markdown",
   "source": [
    "Exercise 2 - Create a markdown cell with the title of the notebook. (1 pt)\n",
    "# Data Science Tools and Ecosystem\n"
   ],
   "id": "dc7c620f640f9bab"
  },
  {
   "metadata": {},
   "cell_type": "markdown",
   "source": [
    "Exercise 3 - Create a markdown cell for an introduction.\n",
    "\n",
    "In this notebook, Data Science Tools and Ecosystem are summarized.\n"
   ],
   "id": "8ff590b0c331fa86"
  },
  {
   "metadata": {},
   "cell_type": "markdown",
   "source": [
    "Exercise 4 - Create a markdown cell to list data science languages.\n",
    "\n",
    "Some of the popular languages that Data Scientists use are:\n",
    "1. Python\n",
    "2. R\n",
    "3. SQL\n",
    "4. Java\n",
    "5. Julia\n"
   ],
   "id": "c30f227bfdfeb369"
  },
  {
   "metadata": {},
   "cell_type": "markdown",
   "source": [
    "Exercise 5 - Create a markdown cell to list data science libraries.\n",
    "\n",
    "Some of the commonly used libraries used by Data Scientists include:\n",
    "1. NumPy\n",
    "2. Pandas\n",
    "3. Scikit-learn\n",
    "4. TensorFlow\n",
    "5. Matplotlib\n"
   ],
   "id": "f17cee810b39b84e"
  },
  {
   "metadata": {},
   "cell_type": "markdown",
   "source": [
    "Exercise 6 - Create a markdown cell with a table of Data Science tools. (3 pts)\n",
    "\n",
    "| Data Science Tools |\n",
    "|--------------------|\n",
    "| Jupyter Notebook   |\n",
    "| RStudio            |\n",
    "| Apache Zeppelin    |\n"
   ],
   "id": "88c162cd5b9b1ee5"
  },
  {
   "metadata": {},
   "cell_type": "markdown",
   "source": [
    "Exercise 7 - Create a markdown cell introducing arithmetic expression examples.\n",
    "\n",
    "### Below are a few examples of evaluating arithmetic expressions in Python.\n",
    "\n"
   ],
   "id": "664c35eb890752c9"
  },
  {
   "cell_type": "code",
   "id": "initial_id",
   "metadata": {
    "collapsed": true,
    "ExecuteTime": {
     "end_time": "2024-12-07T11:35:25.213471Z",
     "start_time": "2024-12-07T11:35:25.181958Z"
    }
   },
   "source": [
    "#Exercise 8 - Create a code cell to multiply and add numbers.\n",
    "# This a simple arithmetic expression to multiply then add integers.\n",
    "(3 * 4) + 5\n"
   ],
   "outputs": [
    {
     "data": {
      "text/plain": [
       "17"
      ]
     },
     "execution_count": 1,
     "metadata": {},
     "output_type": "execute_result"
    }
   ],
   "execution_count": 1
  },
  {
   "metadata": {
    "ExecuteTime": {
     "end_time": "2024-12-07T11:37:11.308654Z",
     "start_time": "2024-12-07T11:37:11.292954Z"
    }
   },
   "cell_type": "code",
   "source": [
    "#Exercise 9 - Create a code cell to convert minutes to hours.\n",
    "# This will convert 200 minutes to hours by dividing by 60.\n",
    "200 / 60\n"
   ],
   "id": "7d93ac0f1afdf6b8",
   "outputs": [
    {
     "data": {
      "text/plain": [
       "3.3333333333333335"
      ]
     },
     "execution_count": 2,
     "metadata": {},
     "output_type": "execute_result"
    }
   ],
   "execution_count": 2
  },
  {
   "metadata": {},
   "cell_type": "markdown",
   "source": [
    "Exercise 10 -Insert a markdown cell to list Objectives.\n",
    "\n",
    "**Objectives:**\n",
    "- List popular languages for Data Science.\n",
    "- Identify commonly used libraries in Data Science.\n",
    "- Explore tools used in Data Science.\n",
    "- Perform basic arithmetic operations in Python.\n",
    "- Understand the use of Markdown in Jupyter Notebook.\n"
   ],
   "id": "ca40db8713c39a48"
  },
  {
   "metadata": {},
   "cell_type": "markdown",
   "source": [
    "Exercise 11 - Create a markdown cell to indicate the Author’s name.\n",
    "\n",
    "## Author\n",
    "Elroy Merwyn Monis\n"
   ],
   "id": "dc383fb2eb262f2e"
  },
  {
   "metadata": {},
   "cell_type": "markdown",
   "source": "",
   "id": "30ee22a80a178bfc"
  }
 ],
 "metadata": {
  "kernelspec": {
   "display_name": "Python 3",
   "language": "python",
   "name": "python3"
  },
  "language_info": {
   "codemirror_mode": {
    "name": "ipython",
    "version": 2
   },
   "file_extension": ".py",
   "mimetype": "text/x-python",
   "name": "python",
   "nbconvert_exporter": "python",
   "pygments_lexer": "ipython2",
   "version": "2.7.6"
  }
 },
 "nbformat": 4,
 "nbformat_minor": 5
}
